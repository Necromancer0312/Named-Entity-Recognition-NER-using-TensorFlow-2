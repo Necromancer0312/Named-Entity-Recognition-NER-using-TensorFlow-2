{
 "cells": [
  {
   "cell_type": "code",
   "execution_count": 33,
   "metadata": {},
   "outputs": [],
   "source": [
    "import pickle"
   ]
  },
  {
   "cell_type": "code",
   "execution_count": 34,
   "metadata": {},
   "outputs": [
    {
     "name": "stderr",
     "output_type": "stream",
     "text": [
      "  % Total    % Received % Xferd  Average Speed   Time    Time     Time  Current\n",
      "                                 Dload  Upload   Total   Spent    Left  Speed\n",
      "\n",
      "  0     0    0     0    0     0      0      0 --:--:-- --:--:-- --:--:--     0\n",
      "  0     0    0     0    0     0      0      0 --:--:-- --:--:-- --:--:--     0\n",
      "  0 4645k    0  2039    0     0   1754      0  0:45:12  0:00:01  0:45:11  1754\n",
      " 15 4645k   15  704k    0     0   336k      0  0:00:13  0:00:02  0:00:11  336k\n",
      " 65 4645k   65 3027k    0     0   957k      0  0:00:04  0:00:03  0:00:01  958k\n",
      "100 4645k  100 4645k    0     0  1154k      0  0:00:04  0:00:04 --:--:-- 1154k\n",
      "  % Total    % Received % Xferd  Average Speed   Time    Time     Time  Current\n",
      "                                 Dload  Upload   Total   Spent    Left  Speed\n",
      "\n",
      "  0     0    0     0    0     0      0      0 --:--:-- --:--:-- --:--:--     0\n",
      "  0     0    0     0    0     0      0      0 --:--:-- --:--:-- --:--:--     0\n",
      "  0 1173k    0   666    0     0    469      0  0:42:42  0:00:01  0:42:41   470\n",
      " 32 1173k   32  384k    0     0   173k      0  0:00:06  0:00:02  0:00:04  173k\n",
      "100 1173k  100 1173k    0     0   403k      0  0:00:02  0:00:02 --:--:--  403k\n"
     ]
    }
   ],
   "source": [
    "# conll 2003\n",
    "!curl -O https://lazyprogrammer.me/course_files/nlp/ner_train.pkl\n",
    "!curl -O https://lazyprogrammer.me/course_files/nlp/ner_test.pkl"
   ]
  },
  {
   "cell_type": "code",
   "execution_count": 35,
   "metadata": {},
   "outputs": [],
   "source": [
    "with open('ner_train.pkl', 'rb') as f:\n",
    "  corpus_train = pickle.load(f)\n",
    "\n",
    "with open('ner_test.pkl', 'rb') as f:\n",
    "  corpus_test = pickle.load(f)"
   ]
  },
  {
   "cell_type": "code",
   "execution_count": 36,
   "metadata": {},
   "outputs": [],
   "source": [
    "train_inputs = []\n",
    "train_targets = []\n",
    "\n",
    "for sentence_tag_pairs in corpus_train:\n",
    "  tokens = []\n",
    "  target = []\n",
    "  for token, tag in sentence_tag_pairs:\n",
    "    tokens.append(token)\n",
    "    target.append(tag)\n",
    "  train_inputs.append(tokens)\n",
    "  train_targets.append(target)"
   ]
  },
  {
   "cell_type": "code",
   "execution_count": 37,
   "metadata": {},
   "outputs": [],
   "source": [
    "test_inputs = []\n",
    "test_targets = []\n",
    "\n",
    "for sentence_tag_pairs in corpus_test:\n",
    "  tokens = []\n",
    "  target = []\n",
    "  for token, tag in sentence_tag_pairs:\n",
    "    tokens.append(token)\n",
    "    target.append(tag)\n",
    "  test_inputs.append(tokens)\n",
    "  test_targets.append(target)"
   ]
  },
  {
   "cell_type": "code",
   "execution_count": 38,
   "metadata": {},
   "outputs": [],
   "source": [
    "import numpy as np\n",
    "import pandas as pd\n",
    "import tensorflow as tf\n",
    "import matplotlib.pyplot as plt\n",
    "from sklearn.model_selection import train_test_split\n",
    "\n",
    "from tensorflow.keras.preprocessing.text import Tokenizer\n",
    "from tensorflow.keras.preprocessing.sequence import pad_sequences\n",
    "from tensorflow.keras.layers import Dense, Input, Bidirectional\n",
    "from tensorflow.keras.layers import LSTM, GRU, SimpleRNN, Embedding\n",
    "from tensorflow.keras.models import Model\n",
    "from tensorflow.keras.losses import SparseCategoricalCrossentropy"
   ]
  },
  {
   "cell_type": "code",
   "execution_count": 39,
   "metadata": {},
   "outputs": [],
   "source": [
    "MAX_VOCAB_SIZE = None\n",
    "\n",
    "should_lowercase = False\n",
    "word_tokenizer = Tokenizer(\n",
    "    num_words=MAX_VOCAB_SIZE,\n",
    "    lower=should_lowercase,\n",
    "    oov_token='UNK',\n",
    ")\n",
    "\n",
    "word_tokenizer.fit_on_texts(train_inputs)\n",
    "train_inputs_int = word_tokenizer.texts_to_sequences(train_inputs)\n",
    "test_inputs_int = word_tokenizer.texts_to_sequences(test_inputs)"
   ]
  },
  {
   "cell_type": "code",
   "execution_count": 40,
   "metadata": {},
   "outputs": [
    {
     "name": "stdout",
     "output_type": "stream",
     "text": [
      "Found 23299 unique tokens.\n"
     ]
    }
   ],
   "source": [
    "word2idx = word_tokenizer.word_index\n",
    "V = len(word2idx)\n",
    "print('Found %s unique tokens.' % V)"
   ]
  },
  {
   "cell_type": "code",
   "execution_count": 41,
   "metadata": {},
   "outputs": [],
   "source": [
    "def flatten(list_of_lists):\n",
    "  flattened = [val for sublist in list_of_lists for val in sublist]\n",
    "  return flattened"
   ]
  },
  {
   "cell_type": "code",
   "execution_count": 42,
   "metadata": {},
   "outputs": [
    {
     "data": {
      "text/plain": [
       "{'B-LOC', 'B-MISC', 'B-ORG', 'B-PER', 'I-LOC', 'I-MISC', 'I-ORG', 'I-PER', 'O'}"
      ]
     },
     "execution_count": 42,
     "metadata": {},
     "output_type": "execute_result"
    }
   ],
   "source": [
    "all_train_targets = set(flatten(train_targets))\n",
    "all_train_targets"
   ]
  },
  {
   "cell_type": "code",
   "execution_count": 43,
   "metadata": {},
   "outputs": [
    {
     "data": {
      "text/plain": [
       "{'B-LOC', 'B-MISC', 'B-ORG', 'B-PER', 'I-LOC', 'I-MISC', 'I-ORG', 'I-PER', 'O'}"
      ]
     },
     "execution_count": 43,
     "metadata": {},
     "output_type": "execute_result"
    }
   ],
   "source": [
    "all_test_targets = set(flatten(test_targets))\n",
    "all_test_targets"
   ]
  },
  {
   "cell_type": "code",
   "execution_count": 44,
   "metadata": {},
   "outputs": [
    {
     "data": {
      "text/plain": [
       "True"
      ]
     },
     "execution_count": 44,
     "metadata": {},
     "output_type": "execute_result"
    }
   ],
   "source": [
    "all_train_targets == all_test_targets"
   ]
  },
  {
   "cell_type": "code",
   "execution_count": 45,
   "metadata": {},
   "outputs": [],
   "source": [
    "tag_tokenizer = Tokenizer()\n",
    "tag_tokenizer.fit_on_texts(train_targets)\n",
    "train_targets_int = tag_tokenizer.texts_to_sequences(train_targets)\n",
    "test_targets_int = tag_tokenizer.texts_to_sequences(test_targets)\n",
    "\n",
    "train_targets_int_unpadded = train_targets_int\n",
    "test_targets_int_unpadded = test_targets_int"
   ]
  },
  {
   "cell_type": "code",
   "execution_count": 46,
   "metadata": {},
   "outputs": [],
   "source": [
    "maxlen_train = max(len(sent) for sent in train_inputs)\n",
    "maxlen_test = max(len(sent) for sent in test_inputs)\n",
    "T = max((maxlen_train, maxlen_test))"
   ]
  },
  {
   "cell_type": "code",
   "execution_count": 47,
   "metadata": {},
   "outputs": [
    {
     "name": "stdout",
     "output_type": "stream",
     "text": [
      "Shape of data train tensor: (12733, 113)\n"
     ]
    }
   ],
   "source": [
    "train_inputs_int = pad_sequences(train_inputs_int, maxlen=T)\n",
    "print('Shape of data train tensor:', train_inputs_int.shape)"
   ]
  },
  {
   "cell_type": "code",
   "execution_count": 48,
   "metadata": {},
   "outputs": [
    {
     "name": "stdout",
     "output_type": "stream",
     "text": [
      "Shape of data test tensor: (2970, 113)\n"
     ]
    }
   ],
   "source": [
    "test_inputs_int = pad_sequences(test_inputs_int, maxlen=T)\n",
    "print('Shape of data test tensor:', test_inputs_int.shape)"
   ]
  },
  {
   "cell_type": "code",
   "execution_count": 49,
   "metadata": {},
   "outputs": [
    {
     "name": "stdout",
     "output_type": "stream",
     "text": [
      "Shape of train targets tensor: (12733, 113)\n"
     ]
    }
   ],
   "source": [
    "train_targets_int = pad_sequences(train_targets_int, maxlen=T)\n",
    "print('Shape of train targets tensor:', train_targets_int.shape)"
   ]
  },
  {
   "cell_type": "code",
   "execution_count": 50,
   "metadata": {},
   "outputs": [
    {
     "name": "stdout",
     "output_type": "stream",
     "text": [
      "Shape of test targets tensor: (2970, 113)\n"
     ]
    }
   ],
   "source": [
    "test_targets_int = pad_sequences(test_targets_int, maxlen=T)\n",
    "print('Shape of test targets tensor:', test_targets_int.shape)"
   ]
  },
  {
   "cell_type": "code",
   "execution_count": 51,
   "metadata": {},
   "outputs": [
    {
     "data": {
      "text/plain": [
       "10"
      ]
     },
     "execution_count": 51,
     "metadata": {},
     "output_type": "execute_result"
    }
   ],
   "source": [
    "K = len(tag_tokenizer.word_index) + 1\n",
    "K"
   ]
  },
  {
   "cell_type": "code",
   "execution_count": 52,
   "metadata": {},
   "outputs": [],
   "source": [
    "D = 32\n",
    "\n",
    "i = Input(shape=(T,))\n",
    "x = Embedding(V + 1, D, mask_zero=True)(i)\n",
    "x = Bidirectional(LSTM(32, return_sequences=True))(x)\n",
    "x = Dense(K)(x)\n",
    "\n",
    "model = Model(i, x)"
   ]
  },
  {
   "cell_type": "code",
   "execution_count": 53,
   "metadata": {},
   "outputs": [
    {
     "name": "stdout",
     "output_type": "stream",
     "text": [
      "Training model...\n",
      "Epoch 1/5\n"
     ]
    },
    {
     "name": "stdout",
     "output_type": "stream",
     "text": [
      "\u001b[1m398/398\u001b[0m \u001b[32m━━━━━━━━━━━━━━━━━━━━\u001b[0m\u001b[37m\u001b[0m \u001b[1m10s\u001b[0m 20ms/step - accuracy: 0.1274 - loss: 1.0481 - val_accuracy: 0.1312 - val_loss: 0.4826\n",
      "Epoch 2/5\n",
      "\u001b[1m398/398\u001b[0m \u001b[32m━━━━━━━━━━━━━━━━━━━━\u001b[0m\u001b[37m\u001b[0m \u001b[1m8s\u001b[0m 20ms/step - accuracy: 0.1248 - loss: 0.3342 - val_accuracy: 0.1382 - val_loss: 0.3190\n",
      "Epoch 3/5\n",
      "\u001b[1m398/398\u001b[0m \u001b[32m━━━━━━━━━━━━━━━━━━━━\u001b[0m\u001b[37m\u001b[0m \u001b[1m9s\u001b[0m 22ms/step - accuracy: 0.1308 - loss: 0.1886 - val_accuracy: 0.1433 - val_loss: 0.2226\n",
      "Epoch 4/5\n",
      "\u001b[1m398/398\u001b[0m \u001b[32m━━━━━━━━━━━━━━━━━━━━\u001b[0m\u001b[37m\u001b[0m \u001b[1m9s\u001b[0m 22ms/step - accuracy: 0.1375 - loss: 0.0826 - val_accuracy: 0.1443 - val_loss: 0.1888\n",
      "Epoch 5/5\n",
      "\u001b[1m398/398\u001b[0m \u001b[32m━━━━━━━━━━━━━━━━━━━━\u001b[0m\u001b[37m\u001b[0m \u001b[1m8s\u001b[0m 21ms/step - accuracy: 0.1390 - loss: 0.0464 - val_accuracy: 0.1445 - val_loss: 0.1795\n"
     ]
    }
   ],
   "source": [
    "model.compile(\n",
    "  loss=SparseCategoricalCrossentropy(from_logits=True),\n",
    "  optimizer='adam',\n",
    "  metrics=['accuracy']\n",
    ")\n",
    "\n",
    "print('Training model...')\n",
    "r = model.fit(\n",
    "  train_inputs_int,\n",
    "  train_targets_int,\n",
    "  epochs=5,\n",
    "  validation_data=(test_inputs_int, test_targets_int)\n",
    ")"
   ]
  },
  {
   "cell_type": "code",
   "execution_count": 54,
   "metadata": {},
   "outputs": [
    {
     "data": {
      "image/png": "[encoded data removed]",
      "text/plain": [
       "<Figure size 640x480 with 1 Axes>"
      ]
     },
     "metadata": {},
     "output_type": "display_data"
    }
   ],
   "source": [
    "plt.plot(r.history['loss'], label='train loss')\n",
    "plt.plot(r.history['val_loss'], label='val loss')\n",
    "plt.legend();"
   ]
  },
  {
   "cell_type": "code",
   "execution_count": 55,
   "metadata": {},
   "outputs": [
    {
     "data": {
      "image/png": "[encoded data removed]",
      "text/plain": [
       "<Figure size 640x480 with 1 Axes>"
      ]
     },
     "metadata": {},
     "output_type": "display_data"
    }
   ],
   "source": [
    "plt.plot(r.history['accuracy'], label='train acc')\n",
    "plt.plot(r.history['val_accuracy'], label='val acc')\n",
    "plt.legend();"
   ]
  },
  {
   "cell_type": "code",
   "execution_count": 56,
   "metadata": {},
   "outputs": [],
   "source": [
    "train_lengths = []\n",
    "for sentence in train_inputs:\n",
    "  train_lengths.append(len(sentence))\n",
    "\n",
    "test_lengths = []\n",
    "for sentence in test_inputs:\n",
    "  test_lengths.append(len(sentence))"
   ]
  },
  {
   "cell_type": "code",
   "execution_count": 57,
   "metadata": {},
   "outputs": [
    {
     "name": "stdout",
     "output_type": "stream",
     "text": [
      "\u001b[1m398/398\u001b[0m \u001b[32m━━━━━━━━━━━━━━━━━━━━\u001b[0m\u001b[37m\u001b[0m \u001b[1m2s\u001b[0m 6ms/step\n"
     ]
    }
   ],
   "source": [
    "train_probs = model.predict(train_inputs_int) # N x T x K\n",
    "train_predictions = []\n",
    "for probs, length in zip(train_probs, train_lengths):\n",
    "  probs_ = probs[-length:]\n",
    "  preds = np.argmax(probs_, axis=1)\n",
    "  train_predictions.append(preds)\n",
    "\n",
    "flat_train_predictions = flatten(train_predictions)\n",
    "flat_train_targets = flatten(train_targets_int_unpadded)"
   ]
  },
  {
   "cell_type": "code",
   "execution_count": 58,
   "metadata": {},
   "outputs": [
    {
     "name": "stdout",
     "output_type": "stream",
     "text": [
      "\u001b[1m93/93\u001b[0m \u001b[32m━━━━━━━━━━━━━━━━━━━━\u001b[0m\u001b[37m\u001b[0m \u001b[1m1s\u001b[0m 6ms/step\n"
     ]
    }
   ],
   "source": [
    "test_probs = model.predict(test_inputs_int) # N x T x K\n",
    "test_predictions = []\n",
    "for probs, length in zip(test_probs, test_lengths):\n",
    "  probs_ = probs[-length:]\n",
    "  preds = np.argmax(probs_, axis=1)\n",
    "  test_predictions.append(preds)\n",
    "\n",
    "flat_test_predictions = flatten(test_predictions)\n",
    "flat_test_targets = flatten(test_targets_int_unpadded)"
   ]
  },
  {
   "cell_type": "code",
   "execution_count": 59,
   "metadata": {},
   "outputs": [
    {
     "name": "stdout",
     "output_type": "stream",
     "text": [
      "Train acc: 0.9935780181326547\n",
      "Test acc: 0.9543459865792944\n",
      "Train f1: 0.9545720021560332\n",
      "Test f1: 0.800608859320398\n"
     ]
    }
   ],
   "source": [
    "from sklearn.metrics import accuracy_score, f1_score\n",
    "\n",
    "print(\"Train acc:\", accuracy_score(flat_train_targets, flat_train_predictions))\n",
    "print(\"Test acc:\", accuracy_score(flat_test_targets, flat_test_predictions))\n",
    "\n",
    "print(\"Train f1:\", f1_score(flat_train_targets, flat_train_predictions, average='macro'))\n",
    "print(\"Test f1:\", f1_score(flat_test_targets, flat_test_predictions, average='macro'))"
   ]
  },
  {
   "cell_type": "code",
   "execution_count": 60,
   "metadata": {},
   "outputs": [],
   "source": [
    "from collections import Counter\n",
    "\n",
    "def most_common(lst):\n",
    "    data = Counter(lst)\n",
    "    return data.most_common(1)[0][0]"
   ]
  },
  {
   "cell_type": "code",
   "execution_count": 61,
   "metadata": {},
   "outputs": [],
   "source": [
    "token2tags = {k: [] for k, v in word2idx.items()}\n",
    "\n",
    "del token2tags['UNK']\n",
    "\n",
    "for tokens, tags in zip(train_inputs, train_targets):\n",
    "  for token, tag in zip(tokens, tags):\n",
    "    if should_lowercase:\n",
    "      token = token.lower()\n",
    "    if token in token2tags:\n",
    "      token2tags[token].append(tag)\n",
    "\n",
    "for k, v in token2tags.items():\n",
    "  if len(v) == 0:\n",
    "    print(k)\n",
    "\n",
    "token2tag = {k: most_common(v) for k, v in token2tags.items()}"
   ]
  },
  {
   "cell_type": "code",
   "execution_count": 62,
   "metadata": {},
   "outputs": [],
   "source": [
    "train_predictions = []\n",
    "for sentence in train_inputs:\n",
    "  predictions = []\n",
    "  for token in sentence:\n",
    "    if should_lowercase:\n",
    "      token = token.lower()\n",
    "    predicted_tag = token2tag[token]\n",
    "    predictions.append(predicted_tag)\n",
    "  train_predictions.append(predictions)\n",
    "flat_train_predictions = flatten(train_predictions)\n",
    "flat_train_targets = flatten(train_targets)"
   ]
  },
  {
   "cell_type": "code",
   "execution_count": 63,
   "metadata": {},
   "outputs": [],
   "source": [
    "test_predictions = []\n",
    "for sentence in test_inputs:\n",
    "  predictions = []\n",
    "  for token in sentence:\n",
    "    predicted_tag = token2tag.get(token, 'INCORRECT')\n",
    "    predictions.append(predicted_tag)\n",
    "  test_predictions.append(predictions)\n",
    "flat_test_predictions = flatten(test_predictions)\n",
    "flat_test_targets = flatten(test_targets)"
   ]
  },
  {
   "cell_type": "code",
   "execution_count": 64,
   "metadata": {},
   "outputs": [
    {
     "name": "stdout",
     "output_type": "stream",
     "text": [
      "Train acc: 0.974769365357086\n",
      "Test acc: 0.8881673455733318\n",
      "Train f1: 0.8549353965547479\n",
      "Test f1: 0.6381158268902334\n"
     ]
    }
   ],
   "source": [
    "print(\"Train acc:\", accuracy_score(flat_train_targets, flat_train_predictions))\n",
    "print(\"Test acc:\", accuracy_score(flat_test_targets, flat_test_predictions))\n",
    "\n",
    "print(\"Train f1:\", f1_score(flat_train_targets, flat_train_predictions, average='macro'))\n",
    "print(\"Test f1:\", f1_score(flat_test_targets, flat_test_predictions, average='macro'))"
   ]
  }
 ],
 "metadata": {
  "kernelspec": {
   "display_name": "Python 3",
   "language": "python",
   "name": "python3"
  },
  "language_info": {
   "codemirror_mode": {
    "name": "ipython",
    "version": 3
   },
   "file_extension": ".py",
   "mimetype": "text/x-python",
   "name": "python",
   "nbconvert_exporter": "python",
   "pygments_lexer": "ipython3",
   "version": "3.12.2"
  }
 },
 "nbformat": 4,
 "nbformat_minor": 2
}
